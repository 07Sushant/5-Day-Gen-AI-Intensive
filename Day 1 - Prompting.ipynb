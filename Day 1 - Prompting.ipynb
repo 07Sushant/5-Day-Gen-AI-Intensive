{
 "cells": [
  {
   "cell_type": "markdown",
   "id": "c9bbe0d4",
   "metadata": {
    "id": "jkxRSYjzA1oX",
    "papermill": {
     "duration": 0.018708,
     "end_time": "2024-11-12T13:06:34.516588",
     "exception": false,
     "start_time": "2024-11-12T13:06:34.497880",
     "status": "completed"
    },
    "tags": []
   },
   "source": [
    "##### Copyright 2024 Google LLC."
   ]
  },
  {
   "cell_type": "code",
   "execution_count": 1,
   "id": "4fc7809f",
   "metadata": {
    "cellView": "form",
    "execution": {
     "iopub.execute_input": "2024-11-12T13:06:34.555953Z",
     "iopub.status.busy": "2024-11-12T13:06:34.555482Z",
     "iopub.status.idle": "2024-11-12T13:06:34.562939Z",
     "shell.execute_reply": "2024-11-12T13:06:34.561913Z"
    },
    "id": "5u5OZ2ShA3BA",
    "papermill": {
     "duration": 0.030808,
     "end_time": "2024-11-12T13:06:34.565600",
     "exception": false,
     "start_time": "2024-11-12T13:06:34.534792",
     "status": "completed"
    },
    "tags": []
   },
   "outputs": [],
   "source": [
    "# @title Licensed under the Apache License, Version 2.0 (the \"License\");\n",
    "# you may not use this file except in compliance with the License.\n",
    "# You may obtain a copy of the License at\n",
    "#\n",
    "# https://www.apache.org/licenses/LICENSE-2.0\n",
    "#\n",
    "# Unless required by applicable law or agreed to in writing, software\n",
    "# distributed under the License is distributed on an \"AS IS\" BASIS,\n",
    "# WITHOUT WARRANTIES OR CONDITIONS OF ANY KIND, either express or implied.\n",
    "# See the License for the specific language governing permissions and\n",
    "# limitations under the License."
   ]
  },
  {
   "cell_type": "markdown",
   "id": "fd0825e0",
   "metadata": {
    "id": "csNPnkuCobmG",
    "papermill": {
     "duration": 0.01819,
     "end_time": "2024-11-12T13:06:34.602365",
     "exception": false,
     "start_time": "2024-11-12T13:06:34.584175",
     "status": "completed"
    },
    "tags": []
   },
   "source": [
    "# Day 1 - Prompting\n",
    "\n",
    "Welcome to the Kaggle 5-day Generative AI course!\n",
    "\n",
    "This notebook will show you how to get started with the Gemini API and walk you through some of the example prompts and techniques that you can also read about in the Prompting whitepaper. You don't need to read the whitepaper to use this notebook, but the papers will give you some theoretical context and background to complement this interactive notebook.\n",
    "\n",
    "\n",
    "## Before you begin\n",
    "\n",
    "In this notebook, you'll start exploring prompts and prompt parameters using the Python SDK and AI Studio. For some inspiration, you might enjoy exploring some apps that have been built using the Gemini family of models. Here are a few that we like, and we think you will too.\n",
    "\n",
    "* [TextFX](https://textfx.withgoogle.com/) is a suite of AI-powered tools for rappers, made in collaboration with Lupe Fiasco,\n",
    "* [SQL Talk](https://sql-talk-r5gdynozbq-uc.a.run.app/) shows how you can talk directly to a database using the Gemini API,\n",
    "* [NotebookLM](https://notebooklm.google/) uses Gemini models to build your own personal AI research assistant.\n",
    "\n",
    "\n",
    "### A note on the Gemini API and Vertex AI\n",
    "\n",
    "In the whitepapers, most of the example code uses the Enterprise [Vertex AI platform](https://cloud.google.com/vertex-ai). In contrast, this notebook, along with the others in this series, will use the [Gemini Developer API](https://ai.google.dev/gemini-api/) and [AI Studio](https://aistudio.google.com/).\n",
    "\n",
    "Both APIs provide access to the Gemini family of models, and the code to interact with the models is very similar. Vertex provides a world-class platform for enterprises, governments and advanced users that need powerful features like data governance, ML ops and deep Google Cloud integration.\n",
    "\n",
    "AI Studio is free to use and only requires a compatible Google account to log in and get started. It is deeply integrated with the Gemini API, which comes with a generous [free tier](https://ai.google.dev/pricing) that you can use to run the code in these exercises.\n",
    "\n",
    "If you are already set up with Google Cloud, you can check out the [Enterprise Gemini API](https://cloud.google.com/vertex-ai/generative-ai/docs/model-reference/inference) through Vertex AI, and run the samples directly from the supplied whitepapers."
   ]
  },
  {
   "attachments": {},
   "cell_type": "markdown",
   "id": "e0226943",
   "metadata": {
    "id": "f00ea7c99e44",
    "papermill": {
     "duration": 0.017814,
     "end_time": "2024-11-12T13:06:34.638122",
     "exception": false,
     "start_time": "2024-11-12T13:06:34.620308",
     "status": "completed"
    },
    "tags": []
   },
   "source": [
    "## Get started with Kaggle notebooks\n",
    "\n",
    "If this is your first time using a Kaggle notebook, welcome! You can read about how to use Kaggle notebooks [in the docs](https://www.kaggle.com/docs/notebooks).\n",
    "\n",
    "First, you will need to phone verify your account at kaggle.com/settings.\n",
    "\n",
    "![](https://storage.googleapis.com/kaggle-media/Images/5dgai_0.png)"
   ]
  },
  {
   "cell_type": "markdown",
   "id": "89bfa635",
   "metadata": {
    "papermill": {
     "duration": 0.017494,
     "end_time": "2024-11-12T13:06:34.673595",
     "exception": false,
     "start_time": "2024-11-12T13:06:34.656101",
     "status": "completed"
    },
    "tags": []
   },
   "source": [
    "To run this notebook, as well as the others in this course, you will need to make a copy, or fork, the notebook. Look for the `Copy and Edit` button in the top-right, and **click it** to make an editable, private copy of the notebook. It should look like this one:\n",
    "\n",
    "![Copy and Edit button](https://storage.googleapis.com/kaggle-media/Images/5gdai_sc_1.png)\n",
    "\n",
    "Your copy will now have a ▶️ **Run** button next to each code cell that you can press to execute that cell. These notebooks are expected to be run in order from top-to-bottom, but you are encouraged to add new cells, run your own code and explore. If you get stuck, you can try the `Factory reset` option in the `Run` menu, or head back to the original notebook and make a fresh copy.\n",
    "\n",
    "![Run cell button](https://storage.googleapis.com/kaggle-media/Images/5gdai_sc_2.png)\n",
    "\n",
    "### Problems?\n",
    "\n",
    "If you have any problems, head over to the [Kaggle Discord](https://discord.com/invite/kaggle), find the [`#5dgai-q-and-a` channel](https://discord.com/channels/1101210829807956100/1303438695143178251) and ask for help."
   ]
  },
  {
   "cell_type": "markdown",
   "id": "86b2b416",
   "metadata": {
    "id": "ExkOXcPxtTb5",
    "papermill": {
     "duration": 0.017576,
     "end_time": "2024-11-12T13:06:34.709220",
     "exception": false,
     "start_time": "2024-11-12T13:06:34.691644",
     "status": "completed"
    },
    "tags": []
   },
   "source": [
    "## Get started with the Gemini API\n",
    "\n",
    "All of the exercises in this notebook will use the [Gemini API](https://ai.google.dev/gemini-api/) by way of the [Python SDK](https://pypi.org/project/google-generativeai/). Each of these prompts can be accessed directly in [Google AI Studio](https://aistudio.google.com/) too, so if you would rather use a web interface and skip the code for this activity, look for the <img src=\"https://ai.google.dev/site-assets/images/marketing/home/icon-ais.png\" style=\"height: 24px\" height=24/> AI Studio link on each prompt."
   ]
  },
  {
   "cell_type": "markdown",
   "id": "fbb42fec",
   "metadata": {
    "papermill": {
     "duration": 0.01753,
     "end_time": "2024-11-12T13:06:34.744737",
     "exception": false,
     "start_time": "2024-11-12T13:06:34.727207",
     "status": "completed"
    },
    "tags": []
   },
   "source": [
    "Next, you will need to add your API key to your Kaggle Notebook as a Kaggle User Secret.\n",
    "\n",
    "![](https://storage.googleapis.com/kaggle-media/Images/5dgai_1.png)\n",
    "![](https://storage.googleapis.com/kaggle-media/Images/5dgai_2.png)\n",
    "![](https://storage.googleapis.com/kaggle-media/Images/5dgai_3.png)\n",
    "![](https://storage.googleapis.com/kaggle-media/Images/5dgai_4.png)"
   ]
  },
  {
   "cell_type": "markdown",
   "id": "088d366b",
   "metadata": {
    "id": "UAjUV3BsvFXQ",
    "papermill": {
     "duration": 0.017589,
     "end_time": "2024-11-12T13:06:34.780199",
     "exception": false,
     "start_time": "2024-11-12T13:06:34.762610",
     "status": "completed"
    },
    "tags": []
   },
   "source": [
    "### Install the SDK"
   ]
  },
  {
   "cell_type": "code",
   "execution_count": 2,
   "id": "73d4d583",
   "metadata": {
    "execution": {
     "iopub.execute_input": "2024-11-12T13:06:34.818535Z",
     "iopub.status.busy": "2024-11-12T13:06:34.818134Z",
     "iopub.status.idle": "2024-11-12T13:06:36.318939Z",
     "shell.execute_reply": "2024-11-12T13:06:36.317827Z"
    },
    "id": "5DwxYIRavMST",
    "papermill": {
     "duration": 1.522877,
     "end_time": "2024-11-12T13:06:36.321846",
     "exception": false,
     "start_time": "2024-11-12T13:06:34.798969",
     "status": "completed"
    },
    "tags": []
   },
   "outputs": [],
   "source": [
    "import google.generativeai as genai\n",
    "from IPython.display import HTML, Markdown, display"
   ]
  },
  {
   "cell_type": "code",
   "execution_count": 3,
   "id": "ee1117dc",
   "metadata": {
    "execution": {
     "iopub.execute_input": "2024-11-12T13:06:36.361343Z",
     "iopub.status.busy": "2024-11-12T13:06:36.359255Z",
     "iopub.status.idle": "2024-11-12T13:07:10.871985Z",
     "shell.execute_reply": "2024-11-12T13:07:10.870496Z"
    },
    "id": "NzwzJFU9LqkJ",
    "papermill": {
     "duration": 34.552499,
     "end_time": "2024-11-12T13:07:10.892318",
     "exception": false,
     "start_time": "2024-11-12T13:06:36.339819",
     "status": "completed"
    },
    "tags": []
   },
   "outputs": [
    {
     "name": "stdout",
     "output_type": "stream",
     "text": [
      "Note: you may need to restart the kernel to use updated packages.\n"
     ]
    }
   ],
   "source": [
    "%pip install -U -q \"google-generativeai>=0.8.3\""
   ]
  },
  {
   "cell_type": "markdown",
   "id": "a2f87692",
   "metadata": {
    "id": "DNEt2BCOvOJ1",
    "papermill": {
     "duration": 0.017724,
     "end_time": "2024-11-12T13:07:10.927926",
     "exception": false,
     "start_time": "2024-11-12T13:07:10.910202",
     "status": "completed"
    },
    "tags": []
   },
   "source": [
    "### Set up your API key\n",
    "\n",
    "To run the following cell, your API key must be stored it in a [Kaggle secret](https://www.kaggle.com/discussions/product-feedback/114053) named `GOOGLE_API_KEY`.\n",
    "\n",
    "If you don't already have an API key, you can grab one from [AI Studio](https://aistudio.google.com/app/apikey). You can find [detailed instructions in the docs](https://ai.google.dev/gemini-api/docs/api-key).\n",
    "\n",
    "To make the key available through Kaggle secrets, choose `Secrets` from the `Add-ons` menu and follow the instructions to add your key or enable it for this notebook."
   ]
  },
  {
   "cell_type": "code",
   "execution_count": 4,
   "id": "80b13ba6",
   "metadata": {
    "execution": {
     "iopub.execute_input": "2024-11-12T13:07:10.966050Z",
     "iopub.status.busy": "2024-11-12T13:07:10.965570Z",
     "iopub.status.idle": "2024-11-12T13:07:11.155593Z",
     "shell.execute_reply": "2024-11-12T13:07:11.154267Z"
    },
    "id": "SHl0bkPCvayd",
    "papermill": {
     "duration": 0.212537,
     "end_time": "2024-11-12T13:07:11.158559",
     "exception": false,
     "start_time": "2024-11-12T13:07:10.946022",
     "status": "completed"
    },
    "tags": []
   },
   "outputs": [],
   "source": [
    "from kaggle_secrets import UserSecretsClient\n",
    "\n",
    "GOOGLE_API_KEY = UserSecretsClient().get_secret(\"GOOGLE_API_KEY\")\n",
    "genai.configure(api_key=GOOGLE_API_KEY)"
   ]
  },
  {
   "attachments": {},
   "cell_type": "markdown",
   "id": "cab811ba",
   "metadata": {
    "id": "4e720472fd86",
    "papermill": {
     "duration": 0.018598,
     "end_time": "2024-11-12T13:07:11.195257",
     "exception": false,
     "start_time": "2024-11-12T13:07:11.176659",
     "status": "completed"
    },
    "tags": []
   },
   "source": [
    "If you received an error response along the lines of `No user secrets exist for kernel id ...`, then you need to add your API key via `Add-ons`, `Secrets` **and** enable it.\n",
    "\n",
    "![Screenshot of the checkbox to enable GOOGLE_API_KEY secret](https://storage.googleapis.com/kaggle-media/Images/5gdai_sc_3.png)"
   ]
  },
  {
   "cell_type": "markdown",
   "id": "ebf27908",
   "metadata": {
    "id": "H_YXCYIKvyZJ",
    "papermill": {
     "duration": 0.018327,
     "end_time": "2024-11-12T13:07:11.232361",
     "exception": false,
     "start_time": "2024-11-12T13:07:11.214034",
     "status": "completed"
    },
    "tags": []
   },
   "source": [
    "### Run your first prompt\n",
    "\n",
    "In this step, you will test that your API key is set up correctly by making a request. The `gemini-1.5-flash` model has been selected here."
   ]
  },
  {
   "cell_type": "code",
   "execution_count": 5,
   "id": "6082a86b",
   "metadata": {
    "execution": {
     "iopub.execute_input": "2024-11-12T13:07:11.271635Z",
     "iopub.status.busy": "2024-11-12T13:07:11.271192Z",
     "iopub.status.idle": "2024-11-12T13:07:12.987923Z",
     "shell.execute_reply": "2024-11-12T13:07:12.986541Z"
    },
    "id": "BV1o0PmcvyJF",
    "papermill": {
     "duration": 1.739747,
     "end_time": "2024-11-12T13:07:12.991261",
     "exception": false,
     "start_time": "2024-11-12T13:07:11.251514",
     "status": "completed"
    },
    "tags": []
   },
   "outputs": [
    {
     "name": "stdout",
     "output_type": "stream",
     "text": [
      "Imagine you have a super smart computer that can learn and think like you! That's what AI, or Artificial Intelligence, is all about.\n",
      "\n",
      "Think of it like this: You learn things by watching, listening, and reading, right? AI is like a computer that learns from all the information we give it. We show it pictures, tell it stories, and give it lots of data. Then, it uses that information to solve problems, answer questions, and even create things!\n",
      "\n",
      "Here are some cool things AI can do:\n",
      "\n",
      "* **Recognize faces:** You can unlock your phone with your face because AI can recognize you!\n",
      "* **Play games:** Some video games have AI characters that can learn how to play and even beat you!\n",
      "* **Help you find things:** When you search on the internet, AI helps you find the best websites and information.\n",
      "* **Translate languages:** AI can help you understand what people say in different languages.\n",
      "\n",
      "It's like having a super smart friend who can help you learn and solve problems! But remember, AI is just a tool. It's important to use it wisely and be careful about the information it gives you. \n",
      "\n"
     ]
    }
   ],
   "source": [
    "flash = genai.GenerativeModel('gemini-1.5-flash')\n",
    "response = flash.generate_content(\"Explain AI to me like I'm a kid.\")\n",
    "print(response.text)"
   ]
  },
  {
   "cell_type": "markdown",
   "id": "b86b2f45",
   "metadata": {
    "id": "f60ed9d8ae41",
    "papermill": {
     "duration": 0.019038,
     "end_time": "2024-11-12T13:07:13.029157",
     "exception": false,
     "start_time": "2024-11-12T13:07:13.010119",
     "status": "completed"
    },
    "tags": []
   },
   "source": [
    "The response often comes back in markdown format, which you can render directly in this notebook."
   ]
  },
  {
   "cell_type": "code",
   "execution_count": 6,
   "id": "e1da21da",
   "metadata": {
    "execution": {
     "iopub.execute_input": "2024-11-12T13:07:13.068449Z",
     "iopub.status.busy": "2024-11-12T13:07:13.068022Z",
     "iopub.status.idle": "2024-11-12T13:07:13.078407Z",
     "shell.execute_reply": "2024-11-12T13:07:13.077020Z"
    },
    "id": "c933e5e460a5",
    "papermill": {
     "duration": 0.033981,
     "end_time": "2024-11-12T13:07:13.081748",
     "exception": false,
     "start_time": "2024-11-12T13:07:13.047767",
     "status": "completed"
    },
    "tags": []
   },
   "outputs": [
    {
     "data": {
      "text/markdown": [
       "Imagine you have a super smart computer that can learn and think like you! That's what AI, or Artificial Intelligence, is all about.\n",
       "\n",
       "Think of it like this: You learn things by watching, listening, and reading, right? AI is like a computer that learns from all the information we give it. We show it pictures, tell it stories, and give it lots of data. Then, it uses that information to solve problems, answer questions, and even create things!\n",
       "\n",
       "Here are some cool things AI can do:\n",
       "\n",
       "* **Recognize faces:** You can unlock your phone with your face because AI can recognize you!\n",
       "* **Play games:** Some video games have AI characters that can learn how to play and even beat you!\n",
       "* **Help you find things:** When you search on the internet, AI helps you find the best websites and information.\n",
       "* **Translate languages:** AI can help you understand what people say in different languages.\n",
       "\n",
       "It's like having a super smart friend who can help you learn and solve problems! But remember, AI is just a tool. It's important to use it wisely and be careful about the information it gives you. \n"
      ],
      "text/plain": [
       "<IPython.core.display.Markdown object>"
      ]
     },
     "execution_count": 6,
     "metadata": {},
     "output_type": "execute_result"
    }
   ],
   "source": [
    "Markdown(response.text)"
   ]
  },
  {
   "cell_type": "markdown",
   "id": "591f8041",
   "metadata": {
    "id": "byx0pT9ZMW2Q",
    "papermill": {
     "duration": 0.018178,
     "end_time": "2024-11-12T13:07:13.119158",
     "exception": false,
     "start_time": "2024-11-12T13:07:13.100980",
     "status": "completed"
    },
    "tags": []
   },
   "source": [
    "### Start a chat\n",
    "\n",
    "The previous example uses a single-turn, text-in/text-out structure, but you can also set up a multi-turn chat structure too."
   ]
  },
  {
   "cell_type": "code",
   "execution_count": 7,
   "id": "c0668b76",
   "metadata": {
    "execution": {
     "iopub.execute_input": "2024-11-12T13:07:13.157921Z",
     "iopub.status.busy": "2024-11-12T13:07:13.157505Z",
     "iopub.status.idle": "2024-11-12T13:07:13.558834Z",
     "shell.execute_reply": "2024-11-12T13:07:13.556993Z"
    },
    "id": "lV_S5ZL5MidD",
    "papermill": {
     "duration": 0.42455,
     "end_time": "2024-11-12T13:07:13.562138",
     "exception": false,
     "start_time": "2024-11-12T13:07:13.137588",
     "status": "completed"
    },
    "tags": []
   },
   "outputs": [
    {
     "name": "stdout",
     "output_type": "stream",
     "text": [
      "Hello Sushant! 👋 It's nice to meet you. 😊 What can I do for you today? \n",
      "\n"
     ]
    }
   ],
   "source": [
    "chat = flash.start_chat(history=[])\n",
    "response = chat.send_message('Hello! My name is Sushant.')\n",
    "print(response.text)"
   ]
  },
  {
   "cell_type": "code",
   "execution_count": 8,
   "id": "c1f417cc",
   "metadata": {
    "execution": {
     "iopub.execute_input": "2024-11-12T13:07:13.602791Z",
     "iopub.status.busy": "2024-11-12T13:07:13.602346Z",
     "iopub.status.idle": "2024-11-12T13:07:14.973238Z",
     "shell.execute_reply": "2024-11-12T13:07:14.971615Z"
    },
    "id": "7b0372c3c64a",
    "papermill": {
     "duration": 1.394724,
     "end_time": "2024-11-12T13:07:14.976160",
     "exception": false,
     "start_time": "2024-11-12T13:07:13.581436",
     "status": "completed"
    },
    "tags": []
   },
   "outputs": [
    {
     "name": "stdout",
     "output_type": "stream",
     "text": [
      "Okay, here's something interesting about dinosaurs: \n",
      "\n",
      "**Did you know that some dinosaurs had feathers?** \n",
      "\n",
      "That's right! While we often imagine dinosaurs as scaly giants, many species, including the famous Velociraptor, actually had feathers. These feathers weren't necessarily for flight, but they might have served for insulation, display, or even helping them run faster. \n",
      "\n",
      "This discovery changed our understanding of dinosaurs quite a bit and strengthened the link between dinosaurs and birds. In fact, birds are actually the direct descendants of small, feathered dinosaurs! \n",
      "\n",
      "What do you think about that? 🤯  Would you like to learn more about feathered dinosaurs, or perhaps something else about these fascinating creatures? \n",
      "\n"
     ]
    }
   ],
   "source": [
    "response = chat.send_message('Can you tell something interesting about dinosaurs?')\n",
    "print(response.text)"
   ]
  },
  {
   "cell_type": "code",
   "execution_count": 9,
   "id": "ed7dd52b",
   "metadata": {
    "execution": {
     "iopub.execute_input": "2024-11-12T13:07:15.016240Z",
     "iopub.status.busy": "2024-11-12T13:07:15.015729Z",
     "iopub.status.idle": "2024-11-12T13:07:15.767226Z",
     "shell.execute_reply": "2024-11-12T13:07:15.765868Z"
    },
    "id": "d3f9591392a7",
    "papermill": {
     "duration": 0.77611,
     "end_time": "2024-11-12T13:07:15.771184",
     "exception": false,
     "start_time": "2024-11-12T13:07:14.995074",
     "status": "completed"
    },
    "tags": []
   },
   "outputs": [
    {
     "name": "stdout",
     "output_type": "stream",
     "text": [
      "Yes, of course!  I remember you said your name is Sushant.  😊  It's nice to chat with you. \n",
      "\n",
      "Do you want to continue talking about dinosaurs, or would you like to talk about something else?  I'm here to learn more about you and chat about whatever interests you! \n",
      "\n"
     ]
    }
   ],
   "source": [
    "# While you have the `chat` object around, the conversation state\n",
    "# persists. Confirm that by asking if it knows my name.\n",
    "response = chat.send_message('Do you remember what my name is?')\n",
    "print(response.text)"
   ]
  },
  {
   "cell_type": "markdown",
   "id": "7c01b403",
   "metadata": {
    "id": "2KAjpr1200sW",
    "papermill": {
     "duration": 0.018699,
     "end_time": "2024-11-12T13:07:15.810315",
     "exception": false,
     "start_time": "2024-11-12T13:07:15.791616",
     "status": "completed"
    },
    "tags": []
   },
   "source": [
    "### Choose a model\n",
    "\n",
    "The Gemini API provides access to a number of models from the Gemini model family. Read about the available models and their capabilities on the [model overview page](https://ai.google.dev/gemini-api/docs/models/gemini).\n",
    "\n",
    "In this step you'll use the API to list all of the available models."
   ]
  },
  {
   "cell_type": "code",
   "execution_count": 10,
   "id": "d5520c44",
   "metadata": {
    "execution": {
     "iopub.execute_input": "2024-11-12T13:07:15.851224Z",
     "iopub.status.busy": "2024-11-12T13:07:15.850767Z",
     "iopub.status.idle": "2024-11-12T13:07:16.280508Z",
     "shell.execute_reply": "2024-11-12T13:07:16.279463Z"
    },
    "id": "uUUZa2uq2jDm",
    "papermill": {
     "duration": 0.452982,
     "end_time": "2024-11-12T13:07:16.283252",
     "exception": false,
     "start_time": "2024-11-12T13:07:15.830270",
     "status": "completed"
    },
    "tags": []
   },
   "outputs": [
    {
     "name": "stdout",
     "output_type": "stream",
     "text": [
      "models/chat-bison-001\n",
      "models/text-bison-001\n",
      "models/embedding-gecko-001\n",
      "models/gemini-1.0-pro-latest\n",
      "models/gemini-1.0-pro\n",
      "models/gemini-pro\n",
      "models/gemini-1.0-pro-001\n",
      "models/gemini-1.0-pro-vision-latest\n",
      "models/gemini-pro-vision\n",
      "models/gemini-1.5-pro-latest\n",
      "models/gemini-1.5-pro-001\n",
      "models/gemini-1.5-pro-002\n",
      "models/gemini-1.5-pro\n",
      "models/gemini-1.5-pro-exp-0801\n",
      "models/gemini-1.5-pro-exp-0827\n",
      "models/gemini-1.5-flash-latest\n",
      "models/gemini-1.5-flash-001\n",
      "models/gemini-1.5-flash-001-tuning\n",
      "models/gemini-1.5-flash\n",
      "models/gemini-1.5-flash-exp-0827\n",
      "models/gemini-1.5-flash-002\n",
      "models/gemini-1.5-flash-8b\n",
      "models/gemini-1.5-flash-8b-001\n",
      "models/gemini-1.5-flash-8b-latest\n",
      "models/gemini-1.5-flash-8b-exp-0827\n",
      "models/gemini-1.5-flash-8b-exp-0924\n",
      "models/embedding-001\n",
      "models/text-embedding-004\n",
      "models/aqa\n"
     ]
    }
   ],
   "source": [
    "for model in genai.list_models():\n",
    "  print(model.name)"
   ]
  },
  {
   "cell_type": "markdown",
   "id": "3de1dd9f",
   "metadata": {
    "id": "rN49kSI54R1v",
    "papermill": {
     "duration": 0.02036,
     "end_time": "2024-11-12T13:07:16.322849",
     "exception": false,
     "start_time": "2024-11-12T13:07:16.302489",
     "status": "completed"
    },
    "tags": []
   },
   "source": [
    "The [`models.list`](https://ai.google.dev/api/models#method:-models.list) response also returns additional information about the model's capabilities, like the token limits and supported parameters."
   ]
  },
  {
   "cell_type": "code",
   "execution_count": 11,
   "id": "93a733de",
   "metadata": {
    "execution": {
     "iopub.execute_input": "2024-11-12T13:07:16.363441Z",
     "iopub.status.busy": "2024-11-12T13:07:16.362975Z",
     "iopub.status.idle": "2024-11-12T13:07:16.509016Z",
     "shell.execute_reply": "2024-11-12T13:07:16.507821Z"
    },
    "id": "k7JJ1K6j4Rl8",
    "papermill": {
     "duration": 0.169617,
     "end_time": "2024-11-12T13:07:16.511905",
     "exception": false,
     "start_time": "2024-11-12T13:07:16.342288",
     "status": "completed"
    },
    "tags": []
   },
   "outputs": [
    {
     "name": "stdout",
     "output_type": "stream",
     "text": [
      "Model(name='models/gemini-1.5-flash',\n",
      "      base_model_id='',\n",
      "      version='001',\n",
      "      display_name='Gemini 1.5 Flash',\n",
      "      description='Fast and versatile multimodal model for scaling across diverse tasks',\n",
      "      input_token_limit=1000000,\n",
      "      output_token_limit=8192,\n",
      "      supported_generation_methods=['generateContent', 'countTokens'],\n",
      "      temperature=1.0,\n",
      "      max_temperature=2.0,\n",
      "      top_p=0.95,\n",
      "      top_k=40)\n"
     ]
    }
   ],
   "source": [
    "for model in genai.list_models():\n",
    "  if model.name == 'models/gemini-1.5-flash':\n",
    "    print(model)\n",
    "    break"
   ]
  },
  {
   "cell_type": "markdown",
   "id": "996d8331",
   "metadata": {
    "id": "5rU_UBlZdooM",
    "papermill": {
     "duration": 0.018962,
     "end_time": "2024-11-12T13:07:16.550725",
     "exception": false,
     "start_time": "2024-11-12T13:07:16.531763",
     "status": "completed"
    },
    "tags": []
   },
   "source": [
    "## Explore generation parameters\n",
    "\n"
   ]
  },
  {
   "cell_type": "markdown",
   "id": "1b864989",
   "metadata": {
    "id": "G7NfEizeipbW",
    "papermill": {
     "duration": 0.018695,
     "end_time": "2024-11-12T13:07:16.588644",
     "exception": false,
     "start_time": "2024-11-12T13:07:16.569949",
     "status": "completed"
    },
    "tags": []
   },
   "source": [
    "### Output length\n",
    "\n",
    "When generating text with an LLM, the output length affects cost and performance. Generating more tokens increases computation, leading to higher energy consumption, latency, and cost.\n",
    "\n",
    "To stop the model from generating tokens past a limit, you can specify the `max_output_length` parameter when using the Gemini API. Specifying this parameter does not influence the generation of the output tokens, so the output will not become more stylistically or textually succinct, but it will stop generating tokens once the specified length is reached. Prompt engineering may be required to generate a more complete output for your given limit."
   ]
  },
  {
   "cell_type": "code",
   "execution_count": 12,
   "id": "e7dba606",
   "metadata": {
    "execution": {
     "iopub.execute_input": "2024-11-12T13:07:16.629638Z",
     "iopub.status.busy": "2024-11-12T13:07:16.629205Z",
     "iopub.status.idle": "2024-11-12T13:07:18.013607Z",
     "shell.execute_reply": "2024-11-12T13:07:18.012113Z"
    },
    "id": "qVf23JsIi9ma",
    "papermill": {
     "duration": 1.408825,
     "end_time": "2024-11-12T13:07:18.017279",
     "exception": false,
     "start_time": "2024-11-12T13:07:16.608454",
     "status": "completed"
    },
    "tags": []
   },
   "outputs": [
    {
     "name": "stdout",
     "output_type": "stream",
     "text": [
      "## The Enduring Allure of the Olive: A Modern Society's Culinary, Economic, and Cultural Staple\n",
      "\n",
      "The olive, a seemingly simple fruit, holds within its wrinkled skin a complex tapestry of history, culture, and significance.  Its journey from ancient origins to modern society is a testament to its resilience and enduring appeal, weaving itself into the fabric of our lives in diverse and impactful ways.  Beyond its culinary delight, the olive stands as a symbol of economic prosperity, environmental sustainability, and cultural identity, solidifying its position as a cornerstone of modern life.\n",
      "\n",
      "**A Culinary Legacy: From Ancient Tables to Modern Plates**\n",
      "\n",
      "The olive's culinary heritage is as ancient as civilization itself. Archaeological evidence suggests its cultivation and consumption dates back to 6000 BCE, with ancient civilizations from Greece to Rome recognizing its nutritional value and gastronomic appeal.  Its transition from a staple food to a beloved delicacy is evident in its diverse applications. \n",
      "\n",
      "Today, the olive graces tables\n"
     ]
    }
   ],
   "source": [
    "short_model = genai.GenerativeModel(\n",
    "    'gemini-1.5-flash',\n",
    "    generation_config=genai.GenerationConfig(max_output_tokens=200))\n",
    "\n",
    "response = short_model.generate_content('Write a 1000 word essay on the importance of olives in modern society.')\n",
    "print(response.text)"
   ]
  },
  {
   "cell_type": "code",
   "execution_count": 13,
   "id": "3959c7b8",
   "metadata": {
    "execution": {
     "iopub.execute_input": "2024-11-12T13:07:18.058306Z",
     "iopub.status.busy": "2024-11-12T13:07:18.057777Z",
     "iopub.status.idle": "2024-11-12T13:07:19.299354Z",
     "shell.execute_reply": "2024-11-12T13:07:19.297876Z"
    },
    "id": "W-3kR2F5kdMR",
    "papermill": {
     "duration": 1.265825,
     "end_time": "2024-11-12T13:07:19.302567",
     "exception": false,
     "start_time": "2024-11-12T13:07:18.036742",
     "status": "completed"
    },
    "tags": []
   },
   "outputs": [
    {
     "name": "stdout",
     "output_type": "stream",
     "text": [
      "From ancient groves, a gift they bear,\n",
      "The olive, plump and dark, with care.\n",
      "A symbol strong, of peace and grace,\n",
      "A taste of sun, in any place.\n",
      "\n",
      "On tables spread, a vibrant hue,\n",
      "A briny bite, a savory chew.\n",
      "In salads tossed, or pressed to oil,\n",
      "They nourish life, with strength and toil.\n",
      "\n",
      "From lamps that lit, to modern meals,\n",
      "The olive's worth, its power reveals.\n",
      "A taste of history, a timeless art,\n",
      "A gift from earth, to every heart. \n",
      "\n"
     ]
    }
   ],
   "source": [
    "response = short_model.generate_content('Write a short poem on the importance of olives in modern society.')\n",
    "print(response.text)"
   ]
  },
  {
   "cell_type": "markdown",
   "id": "3fcd99b2",
   "metadata": {
    "id": "3ZhDSLB6lqqB",
    "papermill": {
     "duration": 0.019586,
     "end_time": "2024-11-12T13:07:19.342213",
     "exception": false,
     "start_time": "2024-11-12T13:07:19.322627",
     "status": "completed"
    },
    "tags": []
   },
   "source": [
    "Explore with your own prompts. Try a prompt with a restrictive output limit and then adjust the prompt to work within that limit."
   ]
  },
  {
   "cell_type": "markdown",
   "id": "b2ce8243",
   "metadata": {
    "id": "alx-WaAvir_9",
    "papermill": {
     "duration": 0.019421,
     "end_time": "2024-11-12T13:07:19.381695",
     "exception": false,
     "start_time": "2024-11-12T13:07:19.362274",
     "status": "completed"
    },
    "tags": []
   },
   "source": [
    "### Temperature\n",
    "\n",
    "Temperature controls the degree of randomness in token selection. Higher temperatures result in a higher number of candidate tokens from which the next output token is selected, and can produce more diverse results, while lower temperatures have the opposite effect, such that a temperature of 0 results in greedy decoding, selecting the most probable token at each step.\n",
    "\n",
    "Temperature doesn't provide any guarantees of randomness, but it can be used to \"nudge\" the output somewhat."
   ]
  },
  {
   "cell_type": "code",
   "execution_count": 14,
   "id": "20c92c49",
   "metadata": {
    "execution": {
     "iopub.execute_input": "2024-11-12T13:07:19.425486Z",
     "iopub.status.busy": "2024-11-12T13:07:19.425043Z",
     "iopub.status.idle": "2024-11-12T13:08:01.493572Z",
     "shell.execute_reply": "2024-11-12T13:08:01.491971Z"
    },
    "id": "SHraGMzqnZqt",
    "papermill": {
     "duration": 42.094992,
     "end_time": "2024-11-12T13:08:01.496770",
     "exception": false,
     "start_time": "2024-11-12T13:07:19.401778",
     "status": "completed"
    },
    "tags": []
   },
   "outputs": [
    {
     "name": "stdout",
     "output_type": "stream",
     "text": [
      "Purple \n",
      " -------------------------\n",
      "Green \n",
      " -------------------------\n",
      "Purple \n",
      " -------------------------\n",
      "Blue \n",
      " -------------------------\n"
     ]
    }
   ],
   "source": [
    "import time\n",
    "\n",
    "high_temp_model = genai.GenerativeModel(\n",
    "    'gemini-1.5-flash',\n",
    "    generation_config=genai.GenerationConfig(temperature=2.0))\n",
    "\n",
    "for _ in range(4):\n",
    "  response = high_temp_model.generate_content('Pick a random colour... (answer in a single word)')\n",
    "  if response.parts:\n",
    "    print(response.text, '-' * 25)\n",
    "\n",
    "  # Slow down a bit so we don't get Resource Exhausted errors.\n",
    "  time.sleep(10)"
   ]
  },
  {
   "cell_type": "markdown",
   "id": "e434133a",
   "metadata": {
    "id": "z3J4pCTuof7e",
    "papermill": {
     "duration": 0.019674,
     "end_time": "2024-11-12T13:08:01.536473",
     "exception": false,
     "start_time": "2024-11-12T13:08:01.516799",
     "status": "completed"
    },
    "tags": []
   },
   "source": [
    "Now try the same prompt with temperature set to zero. Note that the output is not completely deterministic, as other parameters affect token selection, but the results will tend to be more stable."
   ]
  },
  {
   "cell_type": "code",
   "execution_count": 15,
   "id": "f3319e56",
   "metadata": {
    "execution": {
     "iopub.execute_input": "2024-11-12T13:08:01.579447Z",
     "iopub.status.busy": "2024-11-12T13:08:01.578957Z",
     "iopub.status.idle": "2024-11-12T13:08:03.285900Z",
     "shell.execute_reply": "2024-11-12T13:08:03.284392Z"
    },
    "id": "clymkWv-PfUZ",
    "papermill": {
     "duration": 1.732773,
     "end_time": "2024-11-12T13:08:03.289424",
     "exception": false,
     "start_time": "2024-11-12T13:08:01.556651",
     "status": "completed"
    },
    "tags": []
   },
   "outputs": [
    {
     "name": "stdout",
     "output_type": "stream",
     "text": [
      "Purple \n",
      " -------------------------\n",
      "Purple \n",
      " -------------------------\n",
      "Purple \n",
      " -------------------------\n",
      "Purple \n",
      " -------------------------\n"
     ]
    }
   ],
   "source": [
    "low_temp_model = genai.GenerativeModel(\n",
    "    'gemini-1.5-flash',\n",
    "    generation_config=genai.GenerationConfig(temperature=0.0))\n",
    "\n",
    "for _ in range(4):\n",
    "  response = low_temp_model.generate_content('Pick a random colour... (answer in a single word)')\n",
    "  if response.parts:\n",
    "    print(response.text, '-' * 25)"
   ]
  },
  {
   "cell_type": "markdown",
   "id": "209f18b9",
   "metadata": {
    "id": "St5nt3vzitsZ",
    "papermill": {
     "duration": 0.019928,
     "end_time": "2024-11-12T13:08:03.330665",
     "exception": false,
     "start_time": "2024-11-12T13:08:03.310737",
     "status": "completed"
    },
    "tags": []
   },
   "source": [
    "### Top-K and top-P\n",
    "\n",
    "Like temperature, top-K and top-P parameters are also used to control the diversity of the model's output.\n",
    "\n",
    "Top-K is a positive integer that defines the number of most probable tokens from which to select the output token. A top-K of 1 selects a single token, performing greedy decoding.\n",
    "\n",
    "Top-P defines the probability threshold that, once cumulatively exceeded, tokens stop being selected as candidates. A top-P of 0 is typically equivalent to greedy decoding, and a top-P of 1 typically selects every token in the model's vocabulary.\n",
    "\n",
    "When both are supplied, the Gemini API will filter top-K tokens first, then top-P and then finally sample from the candidate tokens using the supplied temperature.\n",
    "\n",
    "Run this example a number of times, change the settings and observe the change in output."
   ]
  },
  {
   "cell_type": "code",
   "execution_count": 16,
   "id": "03eaf66c",
   "metadata": {
    "execution": {
     "iopub.execute_input": "2024-11-12T13:08:03.374265Z",
     "iopub.status.busy": "2024-11-12T13:08:03.373749Z",
     "iopub.status.idle": "2024-11-12T13:08:06.039298Z",
     "shell.execute_reply": "2024-11-12T13:08:06.037712Z"
    },
    "id": "lPlzpEavUV8F",
    "papermill": {
     "duration": 2.691328,
     "end_time": "2024-11-12T13:08:06.042424",
     "exception": false,
     "start_time": "2024-11-12T13:08:03.351096",
     "status": "completed"
    },
    "tags": []
   },
   "outputs": [
    {
     "name": "stdout",
     "output_type": "stream",
     "text": [
      "Bartholomew was a cat of routine. He woke with the sunrise, ate his breakfast, lazed on the windowsill, and napped in the sunbeam until lunch. His life was a cycle of predictable contentment. However, one Tuesday, the world turned upside down. A curious squirrel, larger than any he'd seen before, darted across the lawn, its bushy tail twitching with an almost taunting invitation. Bartholomew, usually content with the predictable, felt a flicker of something different – a spark of adventure.\n",
      "\n",
      "He followed the squirrel, his sleek, black body weaving through the undergrowth. The squirrel, a master of the woods, led him on a chase through rustling leaves and dappled sunlight. Bartholomew, his instincts honed by years of catching mice, followed with surprising agility. He jumped over fallen logs, squeezed through thorny bushes, and even climbed a tree, his paws surprisingly adept at finding purchase on the rough bark.\n",
      "\n",
      "The chase led him to a hidden world – a secret meadow bathed in sunlight, its grass a vibrant emerald. Butterflies flitted amongst wildflowers, bees buzzed, and a tiny stream gurgled merrily. The squirrel, exhausted from its playful escapade, perched on a branch, its tail twitching in amusement.\n",
      "\n",
      "Bartholomew, his heart filled with a strange joy he’d never known before, sat down, his whiskers twitching with the scent of wildflowers. The world, usually confined to his house and garden, felt boundless and exciting. He realised that routine, though comforting, could also be stifling.\n",
      "\n",
      "As the sun began to set, casting long shadows across the meadow, he knew it was time to return. He had a new perspective, a newfound appreciation for the world beyond his doorstep. The squirrel, still perched on the branch, gave him a knowing nod.\n",
      "\n",
      "That night, Bartholomew lay on his familiar windowsill, but his dreams were filled with rustling leaves, sun-dappled meadows, and a curious squirrel with a playful grin. He knew, deep down, that his life would never be the same. He was no longer just Bartholomew, the cat of routine. He was Bartholomew, the adventurer, and he could not wait for his next escapade. \n",
      "\n"
     ]
    }
   ],
   "source": [
    "model = genai.GenerativeModel(\n",
    "    'gemini-1.5-flash-001',\n",
    "    generation_config=genai.GenerationConfig(\n",
    "        # These are the default values for gemini-1.5-flash-001.\n",
    "        temperature=1.0,\n",
    "        top_k=64,\n",
    "        top_p=0.95,\n",
    "    ))\n",
    "\n",
    "story_prompt = \"You are a creative writer. Write a short story about a cat who goes on an adventure.\"\n",
    "response = model.generate_content(story_prompt)\n",
    "print(response.text)"
   ]
  },
  {
   "cell_type": "markdown",
   "id": "3bc140c1",
   "metadata": {
    "id": "rMrYs1koY6DX",
    "papermill": {
     "duration": 0.020552,
     "end_time": "2024-11-12T13:08:06.083946",
     "exception": false,
     "start_time": "2024-11-12T13:08:06.063394",
     "status": "completed"
    },
    "tags": []
   },
   "source": [
    "## Prompting\n",
    "\n",
    "This section contains some prompts from the chapter for you to try out directly in the API. Try changing the text here to see how each prompt performs with different instructions, more examples, or any other changes you can think of."
   ]
  },
  {
   "cell_type": "markdown",
   "id": "27451539",
   "metadata": {
    "id": "hhj_tQidZJP7",
    "papermill": {
     "duration": 0.021108,
     "end_time": "2024-11-12T13:08:06.126517",
     "exception": false,
     "start_time": "2024-11-12T13:08:06.105409",
     "status": "completed"
    },
    "tags": []
   },
   "source": [
    "### Zero-shot\n",
    "\n",
    "Zero-shot prompts are prompts that describe the request for the model directly.\n",
    "\n",
    "<table align=left>\n",
    "  <td>\n",
    "    <a target=\"_blank\" href=\"https://aistudio.google.com/prompts/1gzKKgDHwkAvexG5Up0LMtl1-6jKMKe4g\"><img src=\"https://ai.google.dev/site-assets/images/marketing/home/icon-ais.png\" style=\"height: 24px\" height=24/> Open in AI Studio</a>\n",
    "  </td>\n",
    "</table>"
   ]
  },
  {
   "cell_type": "code",
   "execution_count": 17,
   "id": "fac43bdd",
   "metadata": {
    "execution": {
     "iopub.execute_input": "2024-11-12T13:08:06.169356Z",
     "iopub.status.busy": "2024-11-12T13:08:06.168870Z",
     "iopub.status.idle": "2024-11-12T13:08:06.495439Z",
     "shell.execute_reply": "2024-11-12T13:08:06.494221Z"
    },
    "id": "1_t-cwnDZzbH",
    "papermill": {
     "duration": 0.351038,
     "end_time": "2024-11-12T13:08:06.498019",
     "exception": false,
     "start_time": "2024-11-12T13:08:06.146981",
     "status": "completed"
    },
    "tags": []
   },
   "outputs": [
    {
     "name": "stdout",
     "output_type": "stream",
     "text": [
      "Sentiment: **POSITIVE**\n"
     ]
    }
   ],
   "source": [
    "model = genai.GenerativeModel(\n",
    "    'gemini-1.5-flash-001',\n",
    "    generation_config=genai.GenerationConfig(\n",
    "        temperature=0.1,\n",
    "        top_p=1,\n",
    "        max_output_tokens=5,\n",
    "    ))\n",
    "\n",
    "zero_shot_prompt = \"\"\"Classify movie reviews as POSITIVE, NEUTRAL or NEGATIVE.\n",
    "Review: \"Her\" is a disturbing study revealing the direction\n",
    "humanity is headed if AI is allowed to keep evolving,\n",
    "unchecked. I wish there were more movies like this masterpiece.\n",
    "Sentiment: \"\"\"\n",
    "\n",
    "response = model.generate_content(zero_shot_prompt)\n",
    "print(response.text)"
   ]
  },
  {
   "cell_type": "markdown",
   "id": "2f448d15",
   "metadata": {
    "id": "3b5568bdeb11",
    "papermill": {
     "duration": 0.020537,
     "end_time": "2024-11-12T13:08:06.539721",
     "exception": false,
     "start_time": "2024-11-12T13:08:06.519184",
     "status": "completed"
    },
    "tags": []
   },
   "source": [
    "#### Enum mode\n",
    "\n",
    "The models are trained to generate text, and can sometimes produce more text than you may wish for. In the preceding example, the model will output the label, sometimes it can include a preceding \"Sentiment\" label, and without an output token limit, it may also add explanatory text afterwards.\n",
    "\n",
    "The Gemini API has an [Enum mode](https://github.com/google-gemini/cookbook/blob/main/quickstarts/Enum.ipynb) feature that allows you to constrain the output to a fixed set of values."
   ]
  },
  {
   "cell_type": "code",
   "execution_count": 18,
   "id": "642b4a29",
   "metadata": {
    "execution": {
     "iopub.execute_input": "2024-11-12T13:08:06.583073Z",
     "iopub.status.busy": "2024-11-12T13:08:06.582622Z",
     "iopub.status.idle": "2024-11-12T13:08:07.182928Z",
     "shell.execute_reply": "2024-11-12T13:08:07.181322Z"
    },
    "id": "ad118a56c598",
    "papermill": {
     "duration": 0.625833,
     "end_time": "2024-11-12T13:08:07.186160",
     "exception": false,
     "start_time": "2024-11-12T13:08:06.560327",
     "status": "completed"
    },
    "tags": []
   },
   "outputs": [
    {
     "name": "stdout",
     "output_type": "stream",
     "text": [
      "positive\n"
     ]
    }
   ],
   "source": [
    "import enum\n",
    "\n",
    "class Sentiment(enum.Enum):\n",
    "    POSITIVE = \"positive\"\n",
    "    NEUTRAL = \"neutral\"\n",
    "    NEGATIVE = \"negative\"\n",
    "\n",
    "\n",
    "model = genai.GenerativeModel(\n",
    "    'gemini-1.5-flash-001',\n",
    "    generation_config=genai.GenerationConfig(\n",
    "        response_mime_type=\"text/x.enum\",\n",
    "        response_schema=Sentiment\n",
    "    ))\n",
    "\n",
    "response = model.generate_content(zero_shot_prompt)\n",
    "print(response.text)"
   ]
  },
  {
   "cell_type": "markdown",
   "id": "3f8dc3c3",
   "metadata": {
    "id": "0udiSwNbv45W",
    "papermill": {
     "duration": 0.023213,
     "end_time": "2024-11-12T13:08:07.231686",
     "exception": false,
     "start_time": "2024-11-12T13:08:07.208473",
     "status": "completed"
    },
    "tags": []
   },
   "source": [
    "### One-shot and few-shot\n",
    "\n",
    "Providing an example of the expected response is known as a \"one-shot\" prompt. When you provide multiple examples, it is a \"few-shot\" prompt.\n",
    "\n",
    "<table align=left>\n",
    "  <td>\n",
    "    <a target=\"_blank\" href=\"https://aistudio.google.com/prompts/1jjWkjUSoMXmLvMJ7IzADr_GxHPJVV2bg\"><img src=\"https://ai.google.dev/site-assets/images/marketing/home/icon-ais.png\" style=\"height: 24px\" height=24/> Open in AI Studio</a>\n",
    "  </td>\n",
    "</table>\n"
   ]
  },
  {
   "cell_type": "code",
   "execution_count": 19,
   "id": "43bca98a",
   "metadata": {
    "execution": {
     "iopub.execute_input": "2024-11-12T13:08:07.281777Z",
     "iopub.status.busy": "2024-11-12T13:08:07.281276Z",
     "iopub.status.idle": "2024-11-12T13:08:07.733383Z",
     "shell.execute_reply": "2024-11-12T13:08:07.731997Z"
    },
    "id": "hd4mVUukwOKZ",
    "papermill": {
     "duration": 0.479859,
     "end_time": "2024-11-12T13:08:07.736592",
     "exception": false,
     "start_time": "2024-11-12T13:08:07.256733",
     "status": "completed"
    },
    "tags": []
   },
   "outputs": [
    {
     "name": "stdout",
     "output_type": "stream",
     "text": [
      "```json\n",
      "{\n",
      "\"size\": \"large\",\n",
      "\"type\": \"normal\",\n",
      "\"ingredients\": [\"cheese\", \"pineapple\"]\n",
      "}\n",
      "``` \n",
      "\n"
     ]
    }
   ],
   "source": [
    "model = genai.GenerativeModel(\n",
    "    'gemini-1.5-flash-latest',\n",
    "    generation_config=genai.GenerationConfig(\n",
    "        temperature=0.1,\n",
    "        top_p=1,\n",
    "        max_output_tokens=250,\n",
    "    ))\n",
    "\n",
    "few_shot_prompt = \"\"\"Parse a customer's pizza order into valid JSON:\n",
    "\n",
    "EXAMPLE:\n",
    "I want a small pizza with cheese, tomato sauce, and pepperoni.\n",
    "JSON Response:\n",
    "```\n",
    "{\n",
    "\"size\": \"small\",\n",
    "\"type\": \"normal\",\n",
    "\"ingredients\": [\"cheese\", \"tomato sauce\", \"peperoni\"]\n",
    "}\n",
    "```\n",
    "\n",
    "EXAMPLE:\n",
    "Can I get a large pizza with tomato sauce, basil and mozzarella\n",
    "JSON Response:\n",
    "```\n",
    "{\n",
    "\"size\": \"large\",\n",
    "\"type\": \"normal\",\n",
    "\"ingredients\": [\"tomato sauce\", \"basil\", \"mozzarella\"]\n",
    "}\n",
    "\n",
    "ORDER:\n",
    "\"\"\"\n",
    "\n",
    "customer_order = \"Give me a large with cheese & pineapple\"\n",
    "\n",
    "\n",
    "response = model.generate_content([few_shot_prompt, customer_order])\n",
    "print(response.text)"
   ]
  },
  {
   "cell_type": "markdown",
   "id": "50296a9b",
   "metadata": {
    "id": "021293096f08",
    "papermill": {
     "duration": 0.020991,
     "end_time": "2024-11-12T13:08:07.779911",
     "exception": false,
     "start_time": "2024-11-12T13:08:07.758920",
     "status": "completed"
    },
    "tags": []
   },
   "source": [
    "#### JSON mode\n",
    "\n",
    "To provide control over the schema, and to ensure that you only receive JSON (with no other text or markdown), you can use the Gemini API's [JSON mode](https://github.com/google-gemini/cookbook/blob/main/quickstarts/JSON_mode.ipynb). This forces the model to constrain decoding, such that token selection is guided by the supplied schema."
   ]
  },
  {
   "cell_type": "code",
   "execution_count": 20,
   "id": "90f987c6",
   "metadata": {
    "execution": {
     "iopub.execute_input": "2024-11-12T13:08:07.826477Z",
     "iopub.status.busy": "2024-11-12T13:08:07.824666Z",
     "iopub.status.idle": "2024-11-12T13:08:08.338492Z",
     "shell.execute_reply": "2024-11-12T13:08:08.336855Z"
    },
    "id": "50fbf0260912",
    "papermill": {
     "duration": 0.540559,
     "end_time": "2024-11-12T13:08:08.341657",
     "exception": false,
     "start_time": "2024-11-12T13:08:07.801098",
     "status": "completed"
    },
    "tags": []
   },
   "outputs": [
    {
     "name": "stdout",
     "output_type": "stream",
     "text": [
      "{\"ingredients\": [\"apple\", \"chocolate\"], \"size\": \"large\", \"type\": \"dessert\"}\n",
      "\n"
     ]
    }
   ],
   "source": [
    "import typing_extensions as typing\n",
    "\n",
    "class PizzaOrder(typing.TypedDict):\n",
    "    size: str\n",
    "    ingredients: list[str]\n",
    "    type: str\n",
    "\n",
    "\n",
    "model = genai.GenerativeModel(\n",
    "    'gemini-1.5-flash-latest',\n",
    "    generation_config=genai.GenerationConfig(\n",
    "        temperature=0.1,\n",
    "        response_mime_type=\"application/json\",\n",
    "        response_schema=PizzaOrder,\n",
    "    ))\n",
    "\n",
    "response = model.generate_content(\"Can I have a large dessert pizza with apple and chocolate\")\n",
    "print(response.text)"
   ]
  },
  {
   "cell_type": "markdown",
   "id": "a07b0e8f",
   "metadata": {
    "id": "4a93e338e57c",
    "papermill": {
     "duration": 0.021043,
     "end_time": "2024-11-12T13:08:08.384226",
     "exception": false,
     "start_time": "2024-11-12T13:08:08.363183",
     "status": "completed"
    },
    "tags": []
   },
   "source": [
    "### Chain of Thought (CoT)\n",
    "\n",
    "Direct prompting on LLMs can return answers quickly and (in terms of output token usage) efficiently, but they can be prone to hallucination. The answer may \"look\" correct (in terms of language and syntax) but is incorrect in terms of factuality and reasoning.\n",
    "\n",
    "Chain-of-Thought prompting is a technique where you instruct the model to output intermediate reasoning steps, and it typically gets better results, especially when combined with few-shot examples. It is worth noting that this technique doesn't completely eliminate hallucinations, and that it tends to cost more to run, due to the increased token count.\n",
    "\n",
    "As models like the Gemini family are trained to be \"chatty\" and provide reasoning steps, you can ask the model to be more direct in the prompt."
   ]
  },
  {
   "cell_type": "code",
   "execution_count": 21,
   "id": "04975678",
   "metadata": {
    "execution": {
     "iopub.execute_input": "2024-11-12T13:08:08.430837Z",
     "iopub.status.busy": "2024-11-12T13:08:08.430344Z",
     "iopub.status.idle": "2024-11-12T13:08:08.956945Z",
     "shell.execute_reply": "2024-11-12T13:08:08.955156Z"
    },
    "id": "5715555db1c1",
    "papermill": {
     "duration": 0.553932,
     "end_time": "2024-11-12T13:08:08.960382",
     "exception": false,
     "start_time": "2024-11-12T13:08:08.406450",
     "status": "completed"
    },
    "tags": []
   },
   "outputs": [
    {
     "name": "stdout",
     "output_type": "stream",
     "text": [
      "When you were 4, your partner was 3 * 4 = 12 years old.\n",
      "\n",
      "This means your partner is 12 - 4 = 8 years older than you.\n",
      "\n",
      "Therefore, your partner is now 20 + 8 = **28 years old**. \n",
      "\n"
     ]
    }
   ],
   "source": [
    "prompt = \"\"\"When I was 4 years old, my partner was 3 times my age. Now, I\n",
    "am 20 years old. How old is my partner? Return the answer immediately.\"\"\"\n",
    "\n",
    "model = genai.GenerativeModel('gemini-1.5-flash-latest')\n",
    "response = model.generate_content(prompt)\n",
    "\n",
    "print(response.text)"
   ]
  },
  {
   "cell_type": "markdown",
   "id": "ec41e0a2",
   "metadata": {
    "id": "e12b19677bfd",
    "papermill": {
     "duration": 0.021788,
     "end_time": "2024-11-12T13:08:09.003728",
     "exception": false,
     "start_time": "2024-11-12T13:08:08.981940",
     "status": "completed"
    },
    "tags": []
   },
   "source": [
    "Now try the same approach, but indicate to the model that it should \"think step by step\"."
   ]
  },
  {
   "cell_type": "code",
   "execution_count": 22,
   "id": "73cb5991",
   "metadata": {
    "execution": {
     "iopub.execute_input": "2024-11-12T13:08:09.049674Z",
     "iopub.status.busy": "2024-11-12T13:08:09.049153Z",
     "iopub.status.idle": "2024-11-12T13:08:09.855242Z",
     "shell.execute_reply": "2024-11-12T13:08:09.853571Z"
    },
    "id": "ffd7536a481f",
    "papermill": {
     "duration": 0.833316,
     "end_time": "2024-11-12T13:08:09.858848",
     "exception": false,
     "start_time": "2024-11-12T13:08:09.025532",
     "status": "completed"
    },
    "tags": []
   },
   "outputs": [
    {
     "name": "stdout",
     "output_type": "stream",
     "text": [
      "Here's how to solve this:\n",
      "\n",
      "* **When you were 4, your partner was 3 times your age:**  4 years old * 3 = 12 years old\n",
      "* **The age difference between you and your partner:** 12 years old - 4 years old = 8 years \n",
      "* **Your partner is 8 years older than you.**\n",
      "* **Now you are 20 years old.**\n",
      "* **Your partner's age now:** 20 years old + 8 years = **28 years old** \n",
      "\n",
      "Your partner is now 28 years old. \n",
      "\n"
     ]
    }
   ],
   "source": [
    "prompt = \"\"\"When I was 4 years old, my partner was 3 times my age. Now,\n",
    "I am 20 years old. How old is my partner? Let's think step by step.\"\"\"\n",
    "\n",
    "response = model.generate_content(prompt)\n",
    "print(response.text)"
   ]
  },
  {
   "cell_type": "markdown",
   "id": "d982c3de",
   "metadata": {
    "id": "oiLgBQJj0V53",
    "papermill": {
     "duration": 0.021703,
     "end_time": "2024-11-12T13:08:09.904601",
     "exception": false,
     "start_time": "2024-11-12T13:08:09.882898",
     "status": "completed"
    },
    "tags": []
   },
   "source": [
    "### ReAct: Reason and act\n",
    "\n",
    "In this example you will run a ReAct prompt directly in the Gemini API and perform the searching steps yourself. As this prompt follows a well-defined structure, there are frameworks available that wrap the prompt into easier-to-use APIs that make tool calls automatically, such as the LangChain example from the chapter.\n",
    "\n",
    "To try this out with the Wikipedia search engine, check out the [Searching Wikipedia with ReAct](https://github.com/google-gemini/cookbook/blob/main/examples/Search_Wikipedia_using_ReAct.ipynb) cookbook example.\n",
    "\n",
    "\n",
    "> Note: The prompt and in-context examples used here are from [https://github.com/ysymyth/ReAct](https://github.com/ysymyth/ReAct) which is published under a [MIT license](https://opensource.org/licenses/MIT), Copyright (c) 2023 Shunyu Yao.\n",
    "\n",
    "<table align=left>\n",
    "  <td>\n",
    "    <a target=\"_blank\" href=\"https://aistudio.google.com/prompts/18oo63Lwosd-bQ6Ay51uGogB3Wk3H8XMO\"><img src=\"https://ai.google.dev/site-assets/images/marketing/home/icon-ais.png\" style=\"height: 24px\" height=24/> Open in AI Studio</a>\n",
    "  </td>\n",
    "</table>\n"
   ]
  },
  {
   "cell_type": "code",
   "execution_count": 23,
   "id": "da893ac7",
   "metadata": {
    "execution": {
     "iopub.execute_input": "2024-11-12T13:08:09.951554Z",
     "iopub.status.busy": "2024-11-12T13:08:09.951094Z",
     "iopub.status.idle": "2024-11-12T13:08:09.963216Z",
     "shell.execute_reply": "2024-11-12T13:08:09.961773Z"
    },
    "id": "cBgyNJ5z0VSs",
    "papermill": {
     "duration": 0.039256,
     "end_time": "2024-11-12T13:08:09.966442",
     "exception": false,
     "start_time": "2024-11-12T13:08:09.927186",
     "status": "completed"
    },
    "tags": []
   },
   "outputs": [],
   "source": [
    "model_instructions = \"\"\"\n",
    "Solve a question answering task with interleaving Thought, Action, Observation steps. Thought can reason about the current situation,\n",
    "Observation is understanding relevant information from an Action's output and Action can be one of three types:\n",
    " (1) <search>entity</search>, which searches the exact entity on Wikipedia and returns the first paragraph if it exists. If not, it\n",
    "     will return some similar entities to search and you can try to search the information from those topics.\n",
    " (2) <lookup>keyword</lookup>, which returns the next sentence containing keyword in the current context. This only does exact matches,\n",
    "     so keep your searches short.\n",
    " (3) <finish>answer</finish>, which returns the answer and finishes the task.\n",
    "\"\"\"\n",
    "\n",
    "example1 = \"\"\"Question\n",
    "Musician and satirist Allie Goertz wrote a song about the \"The Simpsons\" character Milhouse, who Matt Groening named after who?\n",
    "\n",
    "Thought 1\n",
    "The question simplifies to \"The Simpsons\" character Milhouse is named after who. I only need to search Milhouse and find who it is named after.\n",
    "\n",
    "Action 1\n",
    "<search>Milhouse</search>\n",
    "\n",
    "Observation 1\n",
    "Milhouse Mussolini Van Houten is a recurring character in the Fox animated television series The Simpsons voiced by Pamela Hayden and created by Matt Groening.\n",
    "\n",
    "Thought 2\n",
    "The paragraph does not tell who Milhouse is named after, maybe I can look up \"named after\".\n",
    "\n",
    "Action 2\n",
    "<lookup>named after</lookup>\n",
    "\n",
    "Observation 2\n",
    "Milhouse was named after U.S. president Richard Nixon, whose middle name was Milhous.\n",
    "\n",
    "Thought 3\n",
    "Milhouse was named after U.S. president Richard Nixon, so the answer is Richard Nixon.\n",
    "\n",
    "Action 3\n",
    "<finish>Richard Nixon</finish>\n",
    "\"\"\"\n",
    "\n",
    "example2 = \"\"\"Question\n",
    "What is the elevation range for the area that the eastern sector of the Colorado orogeny extends into?\n",
    "\n",
    "Thought 1\n",
    "I need to search Colorado orogeny, find the area that the eastern sector of the Colorado orogeny extends into, then find the elevation range of the area.\n",
    "\n",
    "Action 1\n",
    "<search>Colorado orogeny</search>\n",
    "\n",
    "Observation 1\n",
    "The Colorado orogeny was an episode of mountain building (an orogeny) in Colorado and surrounding areas.\n",
    "\n",
    "Thought 2\n",
    "It does not mention the eastern sector. So I need to look up eastern sector.\n",
    "\n",
    "Action 2\n",
    "<lookup>eastern sector</lookup>\n",
    "\n",
    "Observation 2\n",
    "The eastern sector extends into the High Plains and is called the Central Plains orogeny.\n",
    "\n",
    "Thought 3\n",
    "The eastern sector of Colorado orogeny extends into the High Plains. So I need to search High Plains and find its elevation range.\n",
    "\n",
    "Action 3\n",
    "<search>High Plains</search>\n",
    "\n",
    "Observation 3\n",
    "High Plains refers to one of two distinct land regions\n",
    "\n",
    "Thought 4\n",
    "I need to instead search High Plains (United States).\n",
    "\n",
    "Action 4\n",
    "<search>High Plains (United States)</search>\n",
    "\n",
    "Observation 4\n",
    "The High Plains are a subregion of the Great Plains. From east to west, the High Plains rise in elevation from around 1,800 to 7,000 ft (550 to 2,130m).\n",
    "\n",
    "Thought 5\n",
    "High Plains rise in elevation from around 1,800 to 7,000 ft, so the answer is 1,800 to 7,000 ft.\n",
    "\n",
    "Action 5\n",
    "<finish>1,800 to 7,000 ft</finish>\n",
    "\"\"\"\n",
    "\n",
    "# Come up with more examples yourself, or take a look through https://github.com/ysymyth/ReAct/"
   ]
  },
  {
   "cell_type": "markdown",
   "id": "88644886",
   "metadata": {
    "id": "C3wbfstjTgey",
    "papermill": {
     "duration": 0.022028,
     "end_time": "2024-11-12T13:08:10.010476",
     "exception": false,
     "start_time": "2024-11-12T13:08:09.988448",
     "status": "completed"
    },
    "tags": []
   },
   "source": [
    "To capture a single step at a time, while ignoring any hallucinated Observation steps, you will use `stop_sequences` to end the generation process. The steps are `Thought`, `Action`, `Observation`, in that order."
   ]
  },
  {
   "cell_type": "code",
   "execution_count": 24,
   "id": "492832a0",
   "metadata": {
    "execution": {
     "iopub.execute_input": "2024-11-12T13:08:10.055659Z",
     "iopub.status.busy": "2024-11-12T13:08:10.055180Z",
     "iopub.status.idle": "2024-11-12T13:08:11.329785Z",
     "shell.execute_reply": "2024-11-12T13:08:11.328077Z"
    },
    "id": "8mxrXRkRTdXm",
    "papermill": {
     "duration": 1.300705,
     "end_time": "2024-11-12T13:08:11.332937",
     "exception": false,
     "start_time": "2024-11-12T13:08:10.032232",
     "status": "completed"
    },
    "tags": []
   },
   "outputs": [
    {
     "name": "stdout",
     "output_type": "stream",
     "text": [
      "Thought 1\n",
      "I need to find the transformers NLP paper and then find the youngest author listed on the paper.\n",
      "\n",
      "Action 1\n",
      "<search>transformers NLP paper</search>\n",
      "\n"
     ]
    }
   ],
   "source": [
    "question = \"\"\"Question\n",
    "Who was the youngest author listed on the transformers NLP paper?\n",
    "\"\"\"\n",
    "\n",
    "model = genai.GenerativeModel('gemini-1.5-flash-latest')\n",
    "react_chat = model.start_chat()\n",
    "\n",
    "# You will perform the Action, so generate up to, but not including, the Observation.\n",
    "config = genai.GenerationConfig(stop_sequences=[\"\\nObservation\"])\n",
    "\n",
    "resp = react_chat.send_message(\n",
    "    [model_instructions, example1, example2, question],\n",
    "    generation_config=config)\n",
    "print(resp.text)"
   ]
  },
  {
   "cell_type": "markdown",
   "id": "5dcef2ed",
   "metadata": {
    "id": "aW2PIdLbVv3l",
    "papermill": {
     "duration": 0.022311,
     "end_time": "2024-11-12T13:08:11.377202",
     "exception": false,
     "start_time": "2024-11-12T13:08:11.354891",
     "status": "completed"
    },
    "tags": []
   },
   "source": [
    "Now you can perform this research yourself and supply it back to the model."
   ]
  },
  {
   "cell_type": "code",
   "execution_count": 25,
   "id": "b6e6dc8b",
   "metadata": {
    "execution": {
     "iopub.execute_input": "2024-11-12T13:08:11.425214Z",
     "iopub.status.busy": "2024-11-12T13:08:11.424180Z",
     "iopub.status.idle": "2024-11-12T13:08:12.019710Z",
     "shell.execute_reply": "2024-11-12T13:08:12.018106Z"
    },
    "id": "mLMc0DZaV9g2",
    "papermill": {
     "duration": 0.62356,
     "end_time": "2024-11-12T13:08:12.023371",
     "exception": false,
     "start_time": "2024-11-12T13:08:11.399811",
     "status": "completed"
    },
    "tags": []
   },
   "outputs": [
    {
     "name": "stdout",
     "output_type": "stream",
     "text": [
      "Thought 2\n",
      "The observation does not include the ages of the authors. I will need to search for each author individually to find their age and compare.\n",
      "\n",
      "Action 2\n",
      "<search>Ashish Vaswani</search>\n",
      "\n"
     ]
    }
   ],
   "source": [
    "observation = \"\"\"Observation 1\n",
    "[1706.03762] Attention Is All You Need\n",
    "Ashish Vaswani, Noam Shazeer, Niki Parmar, Jakob Uszkoreit, Llion Jones, Aidan N. Gomez, Lukasz Kaiser, Illia Polosukhin\n",
    "We propose a new simple network architecture, the Transformer, based solely on attention mechanisms, dispensing with recurrence and convolutions entirely.\n",
    "\"\"\"\n",
    "resp = react_chat.send_message(observation, generation_config=config)\n",
    "print(resp.text)"
   ]
  },
  {
   "cell_type": "markdown",
   "id": "ba6aed86",
   "metadata": {
    "id": "bo0tzf4nX6dA",
    "papermill": {
     "duration": 0.023901,
     "end_time": "2024-11-12T13:08:12.070611",
     "exception": false,
     "start_time": "2024-11-12T13:08:12.046710",
     "status": "completed"
    },
    "tags": []
   },
   "source": [
    "This process repeats until the `<finish>` action is reached. You can continue running this yourself if you like, or try the [Wikipedia example](https://github.com/google-gemini/cookbook/blob/main/examples/Search_Wikipedia_using_ReAct.ipynb) to see a fully automated ReAct system at work."
   ]
  },
  {
   "cell_type": "markdown",
   "id": "9a730d45",
   "metadata": {
    "id": "jPiZ_eIIaVPt",
    "papermill": {
     "duration": 0.023143,
     "end_time": "2024-11-12T13:08:12.116292",
     "exception": false,
     "start_time": "2024-11-12T13:08:12.093149",
     "status": "completed"
    },
    "tags": []
   },
   "source": [
    "## Code prompting"
   ]
  },
  {
   "cell_type": "markdown",
   "id": "79276b49",
   "metadata": {
    "id": "ZinKamwXeR6C",
    "papermill": {
     "duration": 0.021354,
     "end_time": "2024-11-12T13:08:12.161393",
     "exception": false,
     "start_time": "2024-11-12T13:08:12.140039",
     "status": "completed"
    },
    "tags": []
   },
   "source": [
    "### Generating code\n",
    "\n",
    "The Gemini family of models can be used to generate code, configuration and scripts. Generating code can be helpful when learning to code, learning a new language or for rapidly generating a first draft.\n",
    "\n",
    "It's important to be aware that since LLMs can't reason, and can repeat training data, it's essential to read and test your code first, and comply with any relevant licenses.\n",
    "\n",
    "<table align=left>\n",
    "  <td>\n",
    "    <a target=\"_blank\" href=\"https://aistudio.google.com/prompts/1YX71JGtzDjXQkgdes8bP6i3oH5lCRKxv\"><img src=\"https://ai.google.dev/site-assets/images/marketing/home/icon-ais.png\" style=\"height: 24px\" height=24/> Open in AI Studio</a>\n",
    "  </td>\n",
    "</table>"
   ]
  },
  {
   "cell_type": "code",
   "execution_count": 26,
   "id": "7a0a3630",
   "metadata": {
    "execution": {
     "iopub.execute_input": "2024-11-12T13:08:12.206634Z",
     "iopub.status.busy": "2024-11-12T13:08:12.206155Z",
     "iopub.status.idle": "2024-11-12T13:08:12.661279Z",
     "shell.execute_reply": "2024-11-12T13:08:12.659942Z"
    },
    "id": "fOQP9pqmeUO1",
    "papermill": {
     "duration": 0.4811,
     "end_time": "2024-11-12T13:08:12.664210",
     "exception": false,
     "start_time": "2024-11-12T13:08:12.183110",
     "status": "completed"
    },
    "tags": []
   },
   "outputs": [
    {
     "data": {
      "text/markdown": [
       "```python\n",
       "def factorial(n):\n",
       "  if n == 0:\n",
       "    return 1\n",
       "  else:\n",
       "    return n * factorial(n-1)\n",
       "```"
      ],
      "text/plain": [
       "<IPython.core.display.Markdown object>"
      ]
     },
     "execution_count": 26,
     "metadata": {},
     "output_type": "execute_result"
    }
   ],
   "source": [
    "model = genai.GenerativeModel(\n",
    "    'gemini-1.5-flash-latest',\n",
    "    generation_config=genai.GenerationConfig(\n",
    "        temperature=1,\n",
    "        top_p=1,\n",
    "        max_output_tokens=1024,\n",
    "    ))\n",
    "\n",
    "# Gemini 1.5 models are very chatty, so it helps to specify they stick to the code.\n",
    "code_prompt = \"\"\"\n",
    "Write a Python function to calculate the factorial of a number. No explanation, provide only the code.\n",
    "\"\"\"\n",
    "\n",
    "response = model.generate_content(code_prompt)\n",
    "Markdown(response.text)"
   ]
  },
  {
   "cell_type": "markdown",
   "id": "fb33cb3f",
   "metadata": {
    "id": "wlBMWSFhgVRQ",
    "papermill": {
     "duration": 0.022011,
     "end_time": "2024-11-12T13:08:12.711545",
     "exception": false,
     "start_time": "2024-11-12T13:08:12.689534",
     "status": "completed"
    },
    "tags": []
   },
   "source": [
    "### Code execution\n",
    "\n",
    "The Gemini API can automatically run generated code too, and will return the output.\n",
    "\n",
    "<table align=left>\n",
    "  <td>\n",
    "    <a target=\"_blank\" href=\"https://aistudio.google.com/prompts/11veFr_VYEwBWcLkhNLr-maCG0G8sS_7Z\"><img src=\"https://ai.google.dev/site-assets/images/marketing/home/icon-ais.png\" style=\"height: 24px\" height=24/> Open in AI Studio</a>\n",
    "  </td>\n",
    "</table>"
   ]
  },
  {
   "cell_type": "code",
   "execution_count": 27,
   "id": "068b8a84",
   "metadata": {
    "execution": {
     "iopub.execute_input": "2024-11-12T13:08:12.758021Z",
     "iopub.status.busy": "2024-11-12T13:08:12.757524Z",
     "iopub.status.idle": "2024-11-12T13:08:17.446356Z",
     "shell.execute_reply": "2024-11-12T13:08:17.445137Z"
    },
    "id": "jT3OfWYfhjRL",
    "papermill": {
     "duration": 4.716475,
     "end_time": "2024-11-12T13:08:17.449724",
     "exception": false,
     "start_time": "2024-11-12T13:08:12.733249",
     "status": "completed"
    },
    "tags": []
   },
   "outputs": [
    {
     "data": {
      "text/markdown": [
       "\n",
       "``` python\n",
       "import sympy\n",
       "\n",
       "primes = list(sympy.primerange(2, 100))\n",
       "odd_primes = [prime for prime in primes if prime % 2 != 0]\n",
       "sum_of_primes = sum(odd_primes[:14])\n",
       "print(f'{sum_of_primes=}')\n",
       "\n",
       "```\n",
       "```\n",
       "sum_of_primes=326\n",
       "\n",
       "```\n",
       "The first 14 odd primes are: 3, 5, 7, 11, 13, 17, 19, 23, 29, 31, 37, 41, 43, and 47. Their sum is 326. \n"
      ],
      "text/plain": [
       "<IPython.core.display.Markdown object>"
      ]
     },
     "execution_count": 27,
     "metadata": {},
     "output_type": "execute_result"
    }
   ],
   "source": [
    "model = genai.GenerativeModel(\n",
    "    'gemini-1.5-flash-latest',\n",
    "    tools='code_execution')\n",
    "\n",
    "code_exec_prompt = \"\"\"\n",
    "Calculate the sum of the first 14 prime numbers. Only consider the odd primes, and make sure you get them all.\n",
    "\"\"\"\n",
    "\n",
    "response = model.generate_content(code_exec_prompt)\n",
    "Markdown(response.text)"
   ]
  },
  {
   "cell_type": "markdown",
   "id": "6a624934",
   "metadata": {
    "id": "ZspT1GSkjG6d",
    "papermill": {
     "duration": 0.022478,
     "end_time": "2024-11-12T13:08:17.495505",
     "exception": false,
     "start_time": "2024-11-12T13:08:17.473027",
     "status": "completed"
    },
    "tags": []
   },
   "source": [
    "While this looks like a single-part response, you can inspect the response to see the each of the steps: initial text, code generation, execution results, and final text summary."
   ]
  },
  {
   "cell_type": "code",
   "execution_count": 28,
   "id": "7698a67b",
   "metadata": {
    "execution": {
     "iopub.execute_input": "2024-11-12T13:08:17.542143Z",
     "iopub.status.busy": "2024-11-12T13:08:17.541589Z",
     "iopub.status.idle": "2024-11-12T13:08:17.549224Z",
     "shell.execute_reply": "2024-11-12T13:08:17.547762Z"
    },
    "id": "j4gQVzcRjRX-",
    "papermill": {
     "duration": 0.034492,
     "end_time": "2024-11-12T13:08:17.552317",
     "exception": false,
     "start_time": "2024-11-12T13:08:17.517825",
     "status": "completed"
    },
    "tags": []
   },
   "outputs": [
    {
     "name": "stdout",
     "output_type": "stream",
     "text": [
      "text: \"\"\n",
      "\n",
      "-----\n",
      "executable_code {\n",
      "  language: PYTHON\n",
      "  code: \"\\nimport sympy\\n\\nprimes = list(sympy.primerange(2, 100))\\nodd_primes = [prime for prime in primes if prime % 2 != 0]\\nsum_of_primes = sum(odd_primes[:14])\\nprint(f\\'{sum_of_primes=}\\')\\n\"\n",
      "}\n",
      "\n",
      "-----\n",
      "code_execution_result {\n",
      "  outcome: OUTCOME_OK\n",
      "  output: \"sum_of_primes=326\\n\"\n",
      "}\n",
      "\n",
      "-----\n",
      "text: \"The first 14 odd primes are: 3, 5, 7, 11, 13, 17, 19, 23, 29, 31, 37, 41, 43, and 47. Their sum is 326. \\n\"\n",
      "\n",
      "-----\n"
     ]
    }
   ],
   "source": [
    "for part in response.candidates[0].content.parts:\n",
    "  print(part)\n",
    "  print(\"-----\")"
   ]
  },
  {
   "cell_type": "markdown",
   "id": "13fe5b02",
   "metadata": {
    "id": "1gUX8QzCj4d5",
    "papermill": {
     "duration": 0.021695,
     "end_time": "2024-11-12T13:08:17.596812",
     "exception": false,
     "start_time": "2024-11-12T13:08:17.575117",
     "status": "completed"
    },
    "tags": []
   },
   "source": [
    "### Explaining code\n",
    "\n",
    "The Gemini family of models can explain code to you too.\n",
    "\n",
    "<table align=left>\n",
    "  <td>\n",
    "    <a target=\"_blank\" href=\"https://aistudio.google.com/prompts/1N7LGzWzCYieyOf_7bAG4plrmkpDNmUyb\"><img src=\"https://ai.google.dev/site-assets/images/marketing/home/icon-ais.png\" style=\"height: 24px\" height=24/> Open in AI Studio</a>\n",
    "  </td>\n",
    "</table>"
   ]
  },
  {
   "cell_type": "code",
   "execution_count": 29,
   "id": "816935cf",
   "metadata": {
    "execution": {
     "iopub.execute_input": "2024-11-12T13:08:17.644442Z",
     "iopub.status.busy": "2024-11-12T13:08:17.643099Z",
     "iopub.status.idle": "2024-11-12T13:08:20.424713Z",
     "shell.execute_reply": "2024-11-12T13:08:20.422437Z"
    },
    "id": "7_jPMMoxkIEb",
    "papermill": {
     "duration": 2.810172,
     "end_time": "2024-11-12T13:08:20.429204",
     "exception": false,
     "start_time": "2024-11-12T13:08:17.619032",
     "status": "completed"
    },
    "tags": []
   },
   "outputs": [
    {
     "data": {
      "text/markdown": [
       "This file is a Bash script that provides a highly customizable Git prompt for your terminal.  It offers a rich set of features to display information about your Git repository, including:\n",
       "\n",
       "* **Branch name:** Shows the current branch you're working on.\n",
       "* **Upstream tracking:** Indicates whether your branch is ahead, behind, or in sync with its upstream branch.\n",
       "* **Stash status:** Displays whether you have stashed changes.\n",
       "* **File status:** Shows the number of staged, unstaged, and untracked files.\n",
       "* **Virtual environment:**  Displays the name of your current virtual environment (if applicable).\n",
       "\n",
       "**Why you would use it:**\n",
       "\n",
       "* **Improved awareness:**  The detailed information about your Git repository displayed in the prompt helps you understand the state of your project at a glance.\n",
       "* **Efficiency:**  You can quickly see what branch you're on, if there are changes, and whether you're up to date with upstream.\n",
       "* **Customization:**  The script provides extensive customization options, allowing you to tailor the prompt to your preferences. \n",
       "\n",
       "**How it works:**\n",
       "\n",
       "The script leverages various Git commands to retrieve repository information. It then uses Bash functions and variables to format the output into a user-friendly prompt. You can modify the script's settings to control the appearance and content of the prompt.\n",
       "\n",
       "**To use the script:**\n",
       "\n",
       "1. **Save the code:** Save the code snippet as a `.sh` file (e.g., `git-prompt.sh`).\n",
       "2. **Add to your `.bashrc`:**  Add the following lines to your `.bashrc` file:\n",
       "\n",
       "   ```bash\n",
       "   source /path/to/your/git-prompt.sh\n",
       "   ```\n",
       "\n",
       "3. **Source your `.bashrc`:**  Execute the following command:\n",
       "\n",
       "   ```bash\n",
       "   source ~/.bashrc\n",
       "   ```\n",
       "\n",
       "Now, when you open a new terminal, you'll see the Git prompt with all its features.  You can further customize the script by exploring the numerous options provided.\n"
      ],
      "text/plain": [
       "<IPython.core.display.Markdown object>"
      ]
     },
     "execution_count": 29,
     "metadata": {},
     "output_type": "execute_result"
    }
   ],
   "source": [
    "file_contents = !curl https://raw.githubusercontent.com/magicmonty/bash-git-prompt/refs/heads/master/gitprompt.sh\n",
    "\n",
    "explain_prompt = f\"\"\"\n",
    "Please explain what this file does at a very high level. What is it, and why would I use it?\n",
    "\n",
    "```\n",
    "{file_contents}\n",
    "```\n",
    "\"\"\"\n",
    "\n",
    "model = genai.GenerativeModel('gemini-1.5-flash-latest')\n",
    "\n",
    "response = model.generate_content(explain_prompt)\n",
    "Markdown(response.text)"
   ]
  },
  {
   "cell_type": "markdown",
   "id": "ef0f0c56",
   "metadata": {
    "id": "2a8266d97ce5",
    "papermill": {
     "duration": 0.021363,
     "end_time": "2024-11-12T13:08:20.477093",
     "exception": false,
     "start_time": "2024-11-12T13:08:20.455730",
     "status": "completed"
    },
    "tags": []
   },
   "source": [
    "## Learn more\n",
    "\n",
    "To learn more about prompting in depth:\n",
    "\n",
    "* Check out the whitepaper issued with today's content,\n",
    "* Try out the apps listed at the top of this notebook ([TextFX](https://textfx.withgoogle.com/), [SQL Talk](https://sql-talk-r5gdynozbq-uc.a.run.app/) and [NotebookLM](https://notebooklm.google/)),\n",
    "* Read the [Introduction to Prompting](https://ai.google.dev/gemini-api/docs/prompting-intro) from the Gemini API docs,\n",
    "* Explore the Gemini API's [prompt gallery](https://ai.google.dev/gemini-api/prompts) and try them out in AI Studio,\n",
    "* Check out the Gemini API cookbook for [inspirational examples](https://github.com/google-gemini/cookbook/blob/main/examples/) and [educational quickstarts](https://github.com/google-gemini/cookbook/blob/main/quickstarts/).\n",
    "\n",
    "And please share anything exciting you have tried in the Discord!"
   ]
  }
 ],
 "metadata": {
  "colab": {
   "name": "day-1-prompting.ipynb",
   "toc_visible": true
  },
  "kaggle": {
   "accelerator": "none",
   "dataSources": [],
   "dockerImageVersionId": 30786,
   "isGpuEnabled": false,
   "isInternetEnabled": true,
   "language": "python",
   "sourceType": "notebook"
  },
  "kernelspec": {
   "display_name": "Python 3",
   "language": "python",
   "name": "python3"
  },
  "language_info": {
   "codemirror_mode": {
    "name": "ipython",
    "version": 3
   },
   "file_extension": ".py",
   "mimetype": "text/x-python",
   "name": "python",
   "nbconvert_exporter": "python",
   "pygments_lexer": "ipython3",
   "version": "3.10.14"
  },
  "papermill": {
   "default_parameters": {},
   "duration": 109.871733,
   "end_time": "2024-11-12T13:08:21.122449",
   "environment_variables": {},
   "exception": null,
   "input_path": "__notebook__.ipynb",
   "output_path": "__notebook__.ipynb",
   "parameters": {},
   "start_time": "2024-11-12T13:06:31.250716",
   "version": "2.6.0"
  }
 },
 "nbformat": 4,
 "nbformat_minor": 5
}
